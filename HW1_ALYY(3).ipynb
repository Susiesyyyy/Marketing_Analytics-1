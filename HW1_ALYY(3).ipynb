{
 "cells": [
  {
   "cell_type": "code",
   "execution_count": 1,
   "id": "391f23f0",
   "metadata": {},
   "outputs": [],
   "source": [
    "from scipy.stats import norm\n",
    "import numpy as np\n",
    "import pandas as pd\n",
    "import random\n",
    "random.seed(10)"
   ]
  },
  {
   "cell_type": "code",
   "execution_count": 2,
   "id": "f40de637",
   "metadata": {},
   "outputs": [],
   "source": [
    "df = pd.read_csv('AB_test_data.csv')"
   ]
  },
  {
   "cell_type": "code",
   "execution_count": 3,
   "id": "20e0d2bd",
   "metadata": {},
   "outputs": [
    {
     "data": {
      "text/html": [
       "<div>\n",
       "<style scoped>\n",
       "    .dataframe tbody tr th:only-of-type {\n",
       "        vertical-align: middle;\n",
       "    }\n",
       "\n",
       "    .dataframe tbody tr th {\n",
       "        vertical-align: top;\n",
       "    }\n",
       "\n",
       "    .dataframe thead th {\n",
       "        text-align: right;\n",
       "    }\n",
       "</style>\n",
       "<table border=\"1\" class=\"dataframe\">\n",
       "  <thead>\n",
       "    <tr style=\"text-align: right;\">\n",
       "      <th></th>\n",
       "      <th>purchase_TF</th>\n",
       "      <th>Variant</th>\n",
       "      <th>date</th>\n",
       "      <th>id</th>\n",
       "    </tr>\n",
       "  </thead>\n",
       "  <tbody>\n",
       "    <tr>\n",
       "      <th>count</th>\n",
       "      <td>130000</td>\n",
       "      <td>130000</td>\n",
       "      <td>130000</td>\n",
       "      <td>130000</td>\n",
       "    </tr>\n",
       "    <tr>\n",
       "      <th>unique</th>\n",
       "      <td>2</td>\n",
       "      <td>2</td>\n",
       "      <td>396</td>\n",
       "      <td>130000</td>\n",
       "    </tr>\n",
       "    <tr>\n",
       "      <th>top</th>\n",
       "      <td>False</td>\n",
       "      <td>A</td>\n",
       "      <td>2019-12-22</td>\n",
       "      <td>0x71d511</td>\n",
       "    </tr>\n",
       "    <tr>\n",
       "      <th>freq</th>\n",
       "      <td>110415</td>\n",
       "      <td>125000</td>\n",
       "      <td>384</td>\n",
       "      <td>1</td>\n",
       "    </tr>\n",
       "  </tbody>\n",
       "</table>\n",
       "</div>"
      ],
      "text/plain": [
       "       purchase_TF Variant        date        id\n",
       "count       130000  130000      130000    130000\n",
       "unique           2       2         396    130000\n",
       "top          False       A  2019-12-22  0x71d511\n",
       "freq        110415  125000         384         1"
      ]
     },
     "execution_count": 3,
     "metadata": {},
     "output_type": "execute_result"
    }
   ],
   "source": [
    "df.describe()"
   ]
  },
  {
   "cell_type": "markdown",
   "id": "3878d7a4",
   "metadata": {},
   "source": [
    "## 1. Conduct an A/B test to determine whether Alternative B improved conversion rates (site users book the property) over alternative A. "
   ]
  },
  {
   "cell_type": "markdown",
   "id": "ffb340e6",
   "metadata": {},
   "source": [
    "**Hypothesis:** \n",
    "$$\n",
    "H_0:\\bar{x_{a}} = \\bar{x_{b}}\n",
    "$$\n",
    "$$\n",
    "H_a:\\bar{x_{a}} < \\bar{x_{b}}\n",
    "$$"
   ]
  },
  {
   "cell_type": "code",
   "execution_count": 4,
   "id": "fd46ddb6",
   "metadata": {},
   "outputs": [],
   "source": [
    "df['tf']=df['purchase_TF'].apply(lambda v:1 if v==True else 0)"
   ]
  },
  {
   "cell_type": "code",
   "execution_count": 5,
   "id": "d1128599",
   "metadata": {},
   "outputs": [],
   "source": [
    "df_a = df[df.Variant == 'A']\n",
    "df_b = df[df.Variant == 'B']"
   ]
  },
  {
   "cell_type": "code",
   "execution_count": 6,
   "id": "cd1a1f12",
   "metadata": {},
   "outputs": [],
   "source": [
    "df_a_date = df_a.loc[(df_a['date'] >= \"2020-08-01\" )& (df_a['date'] <= \"2020-08-30\"),]"
   ]
  },
  {
   "cell_type": "code",
   "execution_count": 7,
   "id": "96a385cd",
   "metadata": {},
   "outputs": [],
   "source": [
    "df_b_date = df_b.loc[(df_b['date'] >= \"2020-08-01\" )& (df_b['date'] <= \"2020-08-30\"),]"
   ]
  },
  {
   "cell_type": "code",
   "execution_count": 8,
   "id": "5b36c158",
   "metadata": {},
   "outputs": [
    {
     "name": "stdout",
     "output_type": "stream",
     "text": [
      "mu_a: 0.1548\n",
      "mu_b: 0.1766\n"
     ]
    }
   ],
   "source": [
    "mu_a = df_a_date.tf.mean()\n",
    "print('mu_a:',mu_a)\n",
    "mu_b = df_b_date.tf.mean()\n",
    "print('mu_b:',mu_b)"
   ]
  },
  {
   "cell_type": "code",
   "execution_count": 9,
   "id": "7563ecc7",
   "metadata": {},
   "outputs": [],
   "source": [
    "avg_p = (df_a_date[df_a_date.tf == 1].tf.sum() + df_b_date[df_b_date.tf == 1].tf.sum()) / (df_a_date.shape[0] + df_b_date.shape[0])"
   ]
  },
  {
   "cell_type": "code",
   "execution_count": 10,
   "id": "78bdeb3a",
   "metadata": {},
   "outputs": [],
   "source": [
    "z = (mu_b - mu_a) / np.sqrt( avg_p * (1- avg_p) * (( 1/df_a_date.shape[0] + 1/df_b_date.shape[0])))"
   ]
  },
  {
   "cell_type": "code",
   "execution_count": 11,
   "id": "cf280e34",
   "metadata": {},
   "outputs": [
    {
     "data": {
      "text/plain": [
       "2.9315960100463303"
      ]
     },
     "execution_count": 11,
     "metadata": {},
     "output_type": "execute_result"
    }
   ],
   "source": [
    "z"
   ]
  },
  {
   "cell_type": "code",
   "execution_count": 12,
   "id": "d20e6e43",
   "metadata": {},
   "outputs": [
    {
     "data": {
      "text/plain": [
       "1.6448536269514722"
      ]
     },
     "execution_count": 12,
     "metadata": {},
     "output_type": "execute_result"
    }
   ],
   "source": [
    "norm.ppf(0.95)"
   ]
  },
  {
   "cell_type": "markdown",
   "id": "8bfd2ecd",
   "metadata": {},
   "source": [
    "$$\n",
    "z\\_score= 2.9315960100463303>1.645\n",
    "$$\n",
    "\n",
    "Reject null hypothesis. Alternative B improved conversion rates over alternative A."
   ]
  },
  {
   "cell_type": "markdown",
   "id": "41de3bb8",
   "metadata": {},
   "source": [
    "## 2. Calculate the optimal sample size for a 95% confidence rate and test with 80% power. Conduct the test 10 times using samples of the optimal size. Report results."
   ]
  },
  {
   "cell_type": "code",
   "execution_count": 13,
   "id": "ccc3d06e",
   "metadata": {},
   "outputs": [],
   "source": [
    "df_date = df.loc[(df['date'] >= \"2020-08-01\" )& (df['date'] <= \"2020-08-30\"),]"
   ]
  },
  {
   "cell_type": "code",
   "execution_count": 14,
   "id": "523e573e",
   "metadata": {},
   "outputs": [
    {
     "data": {
      "text/plain": [
       "(10000, 5)"
      ]
     },
     "execution_count": 14,
     "metadata": {},
     "output_type": "execute_result"
    }
   ],
   "source": [
    "df_date.shape"
   ]
  },
  {
   "cell_type": "code",
   "execution_count": 15,
   "id": "712fcd05",
   "metadata": {},
   "outputs": [],
   "source": [
    "z1 = norm.ppf(0.975)\n",
    "z2 = norm.ppf(0.8)\n",
    "p_bar = df_date.tf.mean()"
   ]
  },
  {
   "cell_type": "code",
   "execution_count": 16,
   "id": "5e0eff23",
   "metadata": {},
   "outputs": [
    {
     "data": {
      "text/plain": [
       "4565.1733985134615"
      ]
     },
     "execution_count": 16,
     "metadata": {},
     "output_type": "execute_result"
    }
   ],
   "source": [
    "#Assume mu_a, mu_b and p_bar are retrieved from Historical Data\n",
    "delta = mu_b-mu_a\n",
    "n = (z1*np.sqrt(2*p_bar*(1-p_bar))+z2*np.sqrt(mu_a*(1-mu_a)+mu_b*(1-mu_b)))**2/(delta**2)\n",
    "n"
   ]
  },
  {
   "cell_type": "code",
   "execution_count": 17,
   "id": "c23ac7bc",
   "metadata": {},
   "outputs": [
    {
     "data": {
      "text/plain": [
       "4566"
      ]
     },
     "execution_count": 17,
     "metadata": {},
     "output_type": "execute_result"
    }
   ],
   "source": [
    "ns = int(n//1+1)\n",
    "ns"
   ]
  },
  {
   "cell_type": "code",
   "execution_count": 18,
   "id": "ff5c36fe",
   "metadata": {},
   "outputs": [
    {
     "name": "stdout",
     "output_type": "stream",
     "text": [
      "z_score_0: 2.798643678788233\n",
      "Reject null hypothesis.\n",
      "z_score_1: 2.803090626870924\n",
      "Reject null hypothesis.\n",
      "z_score_2: 2.8038347004747664\n",
      "Reject null hypothesis.\n",
      "z_score_3: 2.8053253590423712\n",
      "Reject null hypothesis.\n",
      "z_score_4: 2.796431389608503\n",
      "Reject null hypothesis.\n",
      "z_score_5: 2.825013534016372\n",
      "Reject null hypothesis.\n",
      "z_score_6: 2.803090626870924\n",
      "Reject null hypothesis.\n",
      "z_score_7: 2.8016049841835104\n",
      "Reject null hypothesis.\n",
      "z_score_8: 2.7993827610296536\n",
      "Reject null hypothesis.\n",
      "z_score_9: 2.7971679944218897\n",
      "Reject null hypothesis.\n"
     ]
    }
   ],
   "source": [
    "sampleA = []\n",
    "sampleB = []\n",
    "for i in range(10):\n",
    "    a = random.sample(range(5000),ns)\n",
    "    b = random.sample(range(5000),ns)\n",
    "    gpA = df_a_date.iloc[a]\n",
    "    gpB = df_b_date.iloc[b]\n",
    "    sampleA.append(gpA)\n",
    "    sampleB.append(gpB)\n",
    "    mu_a1 = gpA.tf.mean()\n",
    "    mu_b1 = gpB.tf.mean()\n",
    "    avg_p = (mu_a1+mu_b1)/2\n",
    "    z_score = (mu_b - mu_a) / np.sqrt( avg_p * (1- avg_p) * (( 1/ns + 1/ns)))\n",
    "    print('z_score_%s:'%i,z_score)\n",
    "    if z_score > norm.ppf(0.95):\n",
    "        print('Reject null hypothesis.')\n",
    "    else:\n",
    "        print('Cannot reject null hypothesis.')"
   ]
  },
  {
   "cell_type": "markdown",
   "id": "8d96d967",
   "metadata": {},
   "source": [
    "## 3. Conduct a sequential test for the 10 samples. For any of the samples, were you able to stop the test prior to using the full sample? What was the average number of iterations required to stop the test?"
   ]
  },
  {
   "cell_type": "code",
   "execution_count": 19,
   "id": "ab60adec",
   "metadata": {},
   "outputs": [
    {
     "name": "stdout",
     "output_type": "stream",
     "text": [
      "A: 16.0\n",
      "B: 0.2105263157894737\n"
     ]
    }
   ],
   "source": [
    "alpha = 0.05\n",
    "beta = 0.2\n",
    "A = (1-beta)/alpha\n",
    "B = beta/(1-alpha)\n",
    "print('A:',A)\n",
    "print('B:',B)"
   ]
  },
  {
   "cell_type": "markdown",
   "id": "16901db4",
   "metadata": {},
   "source": [
    "**Hypothesis:** \n",
    "$$\n",
    "H_0:\\bar{x_{b}} = 0.1548\n",
    "$$\n",
    "$$\n",
    "H_a:\\bar{x_{b}} = 0.1766\n",
    "$$"
   ]
  },
  {
   "cell_type": "code",
   "execution_count": 20,
   "id": "ef4a0f85",
   "metadata": {},
   "outputs": [
    {
     "name": "stdout",
     "output_type": "stream",
     "text": [
      "Sequential test 0\n",
      "Reject H_0\n",
      "lambda: 16.216658440043613\n",
      "i: 1276\n",
      "Sequential test 1\n",
      "Reject H_0\n",
      "lambda: 17.12576236332308\n",
      "i: 2869\n",
      "Sequential test 2\n",
      "Reject H_0\n",
      "lambda: 16.686042345233542\n",
      "i: 1432\n",
      "Sequential test 3\n",
      "Reject H_0\n",
      "lambda: 16.92330714458281\n",
      "i: 646\n",
      "Sequential test 4\n",
      "Reject H_0\n",
      "lambda: 16.089218585198747\n",
      "i: 1089\n",
      "Sequential test 5\n",
      "Reject H_0\n",
      "lambda: 18.012008127498557\n",
      "i: 843\n",
      "Sequential test 6\n",
      "Reject H_0\n",
      "lambda: 17.815416960871918\n",
      "i: 783\n",
      "Sequential test 7\n",
      "Reject H_0\n",
      "lambda: 16.508337636418087\n",
      "i: 798\n",
      "Sequential test 8\n",
      "Reject H_0\n",
      "lambda: 16.821699729988264\n",
      "i: 1764\n",
      "Sequential test 9\n",
      "Reject H_0\n",
      "lambda: 17.66807925169945\n",
      "i: 306\n"
     ]
    }
   ],
   "source": [
    "for j in range(10):\n",
    "    print('Sequential test',j)\n",
    "    gpB = sampleB[j].reset_index(drop=True)\n",
    "    _lambda= 1\n",
    "    i= 0\n",
    "    while i<=ns:\n",
    "        x_B = gpB['tf'][i]\n",
    "        y_0 = 0.1548*x_B+(1-x_B)*(1-0.1548)\n",
    "        y_1 = 0.1766*x_B+(1-x_B)*(1- 0.1766)\n",
    "        _lambda = _lambda * y_1/y_0\n",
    "        if _lambda<=B:\n",
    "            print('Not Reject H_0')\n",
    "            print('lambda:',_lambda)\n",
    "            print('i:',i)\n",
    "            break\n",
    "        if _lambda>=A:\n",
    "            print('Reject H_0')\n",
    "            print('lambda:',_lambda)\n",
    "            print('i:',i)\n",
    "            break\n",
    "        i +=1   "
   ]
  },
  {
   "cell_type": "code",
   "execution_count": 21,
   "id": "1b31b032",
   "metadata": {},
   "outputs": [
    {
     "data": {
      "text/plain": [
       "1299.0"
      ]
     },
     "execution_count": 21,
     "metadata": {},
     "output_type": "execute_result"
    }
   ],
   "source": [
    "(2102+1196+1014+1281+252+362+2065+428+1244+3046)/10"
   ]
  },
  {
   "cell_type": "markdown",
   "id": "93c9457f",
   "metadata": {},
   "source": [
    "Sequential test 0\n",
    "Reject H_0\n",
    "lambda: 16.216658440043613\n",
    "i: 1276\n",
    "Sequential test 1\n",
    "Reject H_0\n",
    "lambda: 17.12576236332308\n",
    "i: 2869\n",
    "Sequential test 2\n",
    "Reject H_0\n",
    "lambda: 16.686042345233542\n",
    "i: 1432\n",
    "Sequential test 3\n",
    "Reject H_0\n",
    "lambda: 16.92330714458281\n",
    "i: 646"
   ]
  },
  {
   "cell_type": "code",
   "execution_count": null,
   "id": "419c8620",
   "metadata": {},
   "outputs": [],
   "source": []
  },
  {
   "cell_type": "code",
   "execution_count": null,
   "id": "3df7ae2d",
   "metadata": {},
   "outputs": [],
   "source": []
  },
  {
   "cell_type": "code",
   "execution_count": null,
   "id": "4f624e87",
   "metadata": {},
   "outputs": [],
   "source": []
  },
  {
   "cell_type": "code",
   "execution_count": null,
   "id": "667fad90",
   "metadata": {},
   "outputs": [],
   "source": []
  }
 ],
 "metadata": {
  "kernelspec": {
   "display_name": "Python 3",
   "language": "python",
   "name": "python3"
  },
  "language_info": {
   "codemirror_mode": {
    "name": "ipython",
    "version": 3
   },
   "file_extension": ".py",
   "mimetype": "text/x-python",
   "name": "python",
   "nbconvert_exporter": "python",
   "pygments_lexer": "ipython3",
   "version": "3.8.8"
  }
 },
 "nbformat": 4,
 "nbformat_minor": 5
}
